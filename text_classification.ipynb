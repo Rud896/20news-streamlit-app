{
  "cells": [
    {
      "cell_type": "markdown",
      "metadata": {
        "id": "view-in-github",
        "colab_type": "text"
      },
      "source": [
        "<a href=\"https://colab.research.google.com/github/Rud896/20news-streamlit-app/blob/main/text_classification.ipynb\" target=\"_parent\"><img src=\"https://colab.research.google.com/assets/colab-badge.svg\" alt=\"Open In Colab\"/></a>"
      ]
    },
    {
      "cell_type": "code",
      "execution_count": null,
      "metadata": {
        "id": "vdo02W8LIGlx"
      },
      "outputs": [],
      "source": [
        "# Importing necessary libraries\n",
        "from sklearn.datasets import fetch_20newsgroups\n",
        "import re\n",
        "from nltk.corpus import stopwords\n",
        "from nltk.stem import PorterStemmer\n",
        "from nltk.tokenize import word_tokenize\n",
        "import re\n",
        "import pandas as pd\n",
        "import numpy as np\n",
        "# Fetch data\n",
        "newsgroups = fetch_20newsgroups(subset='all')"
      ]
    },
    {
      "cell_type": "code",
      "source": [
        "import tensorflow as tf\n",
        "print(\"Num GPUs Available: \", len(tf.config.list_physical_devices('GPU')))\n"
      ],
      "metadata": {
        "colab": {
          "base_uri": "https://localhost:8080/"
        },
        "id": "JtKELtGIZS3G",
        "outputId": "08ed6a35-fd6d-48d0-9ced-ba7fe1e03422"
      },
      "execution_count": null,
      "outputs": [
        {
          "output_type": "stream",
          "name": "stdout",
          "text": [
            "Num GPUs Available:  1\n"
          ]
        }
      ]
    },
    {
      "cell_type": "code",
      "execution_count": null,
      "metadata": {
        "colab": {
          "base_uri": "https://localhost:8080/"
        },
        "id": "GaY9qAuKevm6",
        "outputId": "4606db78-66e0-477f-e8de-7de6bed785c7"
      },
      "outputs": [
        {
          "output_type": "stream",
          "name": "stdout",
          "text": [
            "\n",
            "\n",
            "Data Structure\n",
            "-------------\n",
            "Type of data: <class 'list'>\n",
            "Type of target: <class 'numpy.ndarray'>\n"
          ]
        }
      ],
      "source": [
        "# Understanding the structure of the data\n",
        "print(\"\\n\\nData Structure\\n-------------\")\n",
        "print(f'Type of data: {type(newsgroups.data)}')\n",
        "print(f'Type of target: {type(newsgroups.target)}')"
      ]
    },
    {
      "cell_type": "code",
      "execution_count": null,
      "metadata": {
        "colab": {
          "base_uri": "https://localhost:8080/"
        },
        "id": "YMLa_DGFe8uS",
        "outputId": "319a880a-f116-4527-8454-3d90e6c6cf7a"
      },
      "outputs": [
        {
          "output_type": "stream",
          "name": "stdout",
          "text": [
            "\n",
            "\n",
            "Data Exploration\n",
            "----------------\n",
            "Number of datapoints: 18846\n",
            "Number of target variables: 18846\n",
            "Possible classes: ['alt.atheism', 'comp.graphics', 'comp.os.ms-windows.misc', 'comp.sys.ibm.pc.hardware', 'comp.sys.mac.hardware', 'comp.windows.x', 'misc.forsale', 'rec.autos', 'rec.motorcycles', 'rec.sport.baseball', 'rec.sport.hockey', 'sci.crypt', 'sci.electronics', 'sci.med', 'sci.space', 'soc.religion.christian', 'talk.politics.guns', 'talk.politics.mideast', 'talk.politics.misc', 'talk.religion.misc']\n"
          ]
        }
      ],
      "source": [
        "print(\"\\n\\nData Exploration\\n----------------\")\n",
        "print(f'Number of datapoints: {len(newsgroups.data)}')\n",
        "print(f'Number of target variables: {len(newsgroups.target)}')\n",
        "print(f'Possible classes: {newsgroups.target_names}')"
      ]
    },
    {
      "cell_type": "code",
      "execution_count": null,
      "metadata": {
        "colab": {
          "base_uri": "https://localhost:8080/"
        },
        "id": "Pp_Fz2tkfwSo",
        "outputId": "2a0fe4aa-a666-4317-da2f-c02ee654557a"
      },
      "outputs": [
        {
          "output_type": "stream",
          "name": "stdout",
          "text": [
            "\n",
            "\n",
            "Sample datapoint\n",
            "----------------\n",
            "\n",
            "Article:\n",
            "-------\n",
            "From: mblawson@midway.ecn.uoknor.edu (Matthew B Lawson)\n",
            "Subject: Which high-performance VLB video card?\n",
            "Summary: Seek recommendations for VLB video card\n",
            "Nntp-Posting-Host: midway.ecn.uoknor.edu\n",
            "Organization: Engineering Computer Network, University of Oklahoma, Norman, OK, USA\n",
            "Keywords: orchid, stealth, vlb\n",
            "Lines: 21\n",
            "\n",
            "  My brother is in the market for a high-performance video card that supports\n",
            "VESA local bus with 1-2MB RAM.  Does anyone have suggestions/ideas on:\n",
            "\n",
            "  - Diamond Stealth Pro Local Bus\n",
            "\n",
            "  - Orchid Farenheit 1280\n",
            "\n",
            "  - ATI Graphics Ultra Pro\n",
            "\n",
            "  - Any other high-performance VLB card\n",
            "\n",
            "\n",
            "Please post or email.  Thank you!\n",
            "\n",
            "  - Matt\n",
            "\n",
            "-- \n",
            "    |  Matthew B. Lawson <------------> (mblawson@essex.ecn.uoknor.edu)  |   \n",
            "  --+-- \"Now I, Nebuchadnezzar, praise and exalt and glorify the King  --+-- \n",
            "    |   of heaven, because everything he does is right and all his ways  |   \n",
            "    |   are just.\" - Nebuchadnezzar, king of Babylon, 562 B.C.           |   \n",
            "\n",
            "\n",
            "Corresponding Topic:\n",
            "------------------\n",
            "comp.sys.ibm.pc.hardware\n"
          ]
        }
      ],
      "source": [
        "print(\"\\n\\nSample datapoint\\n----------------\")\n",
        "print(f'\\nArticle:\\n-------\\n{newsgroups.data[1]}')\n",
        "print(f'\\nCorresponding Topic:\\n------------------\\n{newsgroups.target_names[newsgroups.target[1]]}')"
      ]
    },
    {
      "cell_type": "code",
      "execution_count": null,
      "metadata": {
        "id": "btWpYa-zg8lQ"
      },
      "outputs": [],
      "source": [
        "sample=newsgroups['data'][:500]"
      ]
    },
    {
      "cell_type": "code",
      "execution_count": null,
      "metadata": {
        "colab": {
          "base_uri": "https://localhost:8080/"
        },
        "id": "LzD9nAUxQ-gB",
        "outputId": "3d57eed7-c59a-4bf5-8c37-a2af5869f7ce"
      },
      "outputs": [
        {
          "output_type": "stream",
          "name": "stderr",
          "text": [
            "[nltk_data] Downloading package stopwords to /root/nltk_data...\n",
            "[nltk_data]   Package stopwords is already up-to-date!\n"
          ]
        },
        {
          "output_type": "execute_result",
          "data": {
            "text/plain": [
              "True"
            ]
          },
          "metadata": {},
          "execution_count": 33
        }
      ],
      "source": [
        "import nltk\n",
        "nltk.download('stopwords')"
      ]
    },
    {
      "cell_type": "code",
      "execution_count": null,
      "metadata": {
        "id": "xPTGHOeTQmf1"
      },
      "outputs": [],
      "source": [
        "stemmer=PorterStemmer()\n",
        "stop_words=set(stopwords.words('english'))"
      ]
    },
    {
      "cell_type": "code",
      "execution_count": null,
      "metadata": {
        "id": "KwXskla-QxlT"
      },
      "outputs": [],
      "source": [
        "def processing(text):\n",
        "  text = text.lower()  # Convert text to lower case\n",
        "  text = re.sub(r'\\S*@\\S*\\s?', '', text)  # Remove email addresses\n",
        "  text = re.sub(r'http\\S+', '', text)  # Remove URLs\n",
        "  text = re.sub(r'\\W', ' ', text)  # Remove punctuation and special characters\n",
        "  text = re.sub(r'\\d', ' ', text)  # Remove digits\n",
        "  text = re.sub(r'\\s\\s+', ' ', text)  # Remove extra spaces\n",
        "  text_token=word_tokenize(text)\n",
        "  text2=[stemmer.stem(word) for word in text_token if not word in stop_words]\n",
        "  return \" \".join(text2)"
      ]
    },
    {
      "cell_type": "code",
      "execution_count": null,
      "metadata": {
        "colab": {
          "base_uri": "https://localhost:8080/"
        },
        "id": "iKmvOnUsSFNM",
        "outputId": "d706f948-aba9-4769-dd6b-9b116ae4873b"
      },
      "outputs": [
        {
          "output_type": "stream",
          "name": "stderr",
          "text": [
            "[nltk_data] Downloading package punkt_tab to /root/nltk_data...\n",
            "[nltk_data]   Package punkt_tab is already up-to-date!\n"
          ]
        },
        {
          "output_type": "execute_result",
          "data": {
            "text/plain": [
              "True"
            ]
          },
          "metadata": {},
          "execution_count": 36
        }
      ],
      "source": [
        "import nltk\n",
        "nltk.download('punkt_tab')"
      ]
    },
    {
      "cell_type": "code",
      "execution_count": null,
      "metadata": {
        "colab": {
          "base_uri": "https://localhost:8080/"
        },
        "id": "Av2paOangnfd",
        "outputId": "36a4a392-ea6e-4023-cedc-d9bf5b8c4bfd"
      },
      "outputs": [
        {
          "output_type": "stream",
          "name": "stdout",
          "text": [
            "<class 'str'>\n"
          ]
        }
      ],
      "source": [
        "print(type(sample[0]))"
      ]
    },
    {
      "cell_type": "code",
      "execution_count": null,
      "metadata": {
        "colab": {
          "base_uri": "https://localhost:8080/"
        },
        "id": "cPqdCQkTRsar",
        "outputId": "ec63675f-619e-4cee-e750-f88114f8407d"
      },
      "outputs": [
        {
          "output_type": "stream",
          "name": "stdout",
          "text": [
            "mamatha devineni ratnam subject pen fan reaction organ post offic carnegi mellon pittsburgh pa line nntp post host po andrew cmu edu sure basher pen fan pretti confus lack kind post recent pen massacr devil actual bit puzzl bit reliev howev go put end non pittsburgh relief bit prais pen man kill devil wors thought jagr show much better regular season stat also lot fo fun watch playoff bowman let jagr lot fun next coupl game sinc pen go beat pulp jersey anyway disappoint see island lose final regular season game pen rule\n"
          ]
        }
      ],
      "source": [
        "print(f'{processing(sample[0])}')"
      ]
    },
    {
      "cell_type": "code",
      "execution_count": null,
      "metadata": {
        "colab": {
          "base_uri": "https://localhost:8080/"
        },
        "id": "48SutteAR3FO",
        "outputId": "996d40a9-2904-49e8-e115-a358b7e99479"
      },
      "outputs": [
        {
          "output_type": "execute_result",
          "data": {
            "text/plain": [
              "[\"From: Mamatha Devineni Ratnam <mr47+@andrew.cmu.edu>\\nSubject: Pens fans reactions\\nOrganization: Post Office, Carnegie Mellon, Pittsburgh, PA\\nLines: 12\\nNNTP-Posting-Host: po4.andrew.cmu.edu\\n\\n\\n\\nI am sure some bashers of Pens fans are pretty confused about the lack\\nof any kind of posts about the recent Pens massacre of the Devils. Actually,\\nI am  bit puzzled too and a bit relieved. However, I am going to put an end\\nto non-PIttsburghers' relief with a bit of praise for the Pens. Man, they\\nare killing those Devils worse than I thought. Jagr just showed you why\\nhe is much better than his regular season stats. He is also a lot\\nfo fun to watch in the playoffs. Bowman should let JAgr have a lot of\\nfun in the next couple of games since the Pens are going to beat the pulp out of Jersey anyway. I was very disappointed not to see the Islanders lose the final\\nregular season game.          PENS RULE!!!\\n\\n\",\n",
              " 'From: mblawson@midway.ecn.uoknor.edu (Matthew B Lawson)\\nSubject: Which high-performance VLB video card?\\nSummary: Seek recommendations for VLB video card\\nNntp-Posting-Host: midway.ecn.uoknor.edu\\nOrganization: Engineering Computer Network, University of Oklahoma, Norman, OK, USA\\nKeywords: orchid, stealth, vlb\\nLines: 21\\n\\n  My brother is in the market for a high-performance video card that supports\\nVESA local bus with 1-2MB RAM.  Does anyone have suggestions/ideas on:\\n\\n  - Diamond Stealth Pro Local Bus\\n\\n  - Orchid Farenheit 1280\\n\\n  - ATI Graphics Ultra Pro\\n\\n  - Any other high-performance VLB card\\n\\n\\nPlease post or email.  Thank you!\\n\\n  - Matt\\n\\n-- \\n    |  Matthew B. Lawson <------------> (mblawson@essex.ecn.uoknor.edu)  |   \\n  --+-- \"Now I, Nebuchadnezzar, praise and exalt and glorify the King  --+-- \\n    |   of heaven, because everything he does is right and all his ways  |   \\n    |   are just.\" - Nebuchadnezzar, king of Babylon, 562 B.C.           |   \\n']"
            ]
          },
          "metadata": {},
          "execution_count": 39
        }
      ],
      "source": [
        "newsgroups['data'][:2]"
      ]
    },
    {
      "cell_type": "code",
      "execution_count": null,
      "metadata": {
        "id": "UeMAv-8Oh80i"
      },
      "outputs": [],
      "source": [
        "nlpdf=pd.DataFrame(newsgroups,columns=['data','target'])"
      ]
    },
    {
      "cell_type": "code",
      "execution_count": null,
      "metadata": {
        "colab": {
          "base_uri": "https://localhost:8080/",
          "height": 206
        },
        "id": "A6JBWQVzjPGJ",
        "outputId": "321d5f75-6727-4a4b-cb43-17d9cbc9d8ac"
      },
      "outputs": [
        {
          "output_type": "execute_result",
          "data": {
            "text/plain": [
              "                                                data  target\n",
              "0  From: Mamatha Devineni Ratnam <mr47+@andrew.cm...      10\n",
              "1  From: mblawson@midway.ecn.uoknor.edu (Matthew ...       3\n",
              "2  From: hilmi-er@dsv.su.se (Hilmi Eren)\\nSubject...      17\n",
              "3  From: guyd@austin.ibm.com (Guy Dawson)\\nSubjec...       3\n",
              "4  From: Alexander Samuel McDiarmid <am2o+@andrew...       4"
            ],
            "text/html": [
              "\n",
              "  <div id=\"df-c7f76294-71d8-41e8-9dee-acf2dfbe41b3\" class=\"colab-df-container\">\n",
              "    <div>\n",
              "<style scoped>\n",
              "    .dataframe tbody tr th:only-of-type {\n",
              "        vertical-align: middle;\n",
              "    }\n",
              "\n",
              "    .dataframe tbody tr th {\n",
              "        vertical-align: top;\n",
              "    }\n",
              "\n",
              "    .dataframe thead th {\n",
              "        text-align: right;\n",
              "    }\n",
              "</style>\n",
              "<table border=\"1\" class=\"dataframe\">\n",
              "  <thead>\n",
              "    <tr style=\"text-align: right;\">\n",
              "      <th></th>\n",
              "      <th>data</th>\n",
              "      <th>target</th>\n",
              "    </tr>\n",
              "  </thead>\n",
              "  <tbody>\n",
              "    <tr>\n",
              "      <th>0</th>\n",
              "      <td>From: Mamatha Devineni Ratnam &lt;mr47+@andrew.cm...</td>\n",
              "      <td>10</td>\n",
              "    </tr>\n",
              "    <tr>\n",
              "      <th>1</th>\n",
              "      <td>From: mblawson@midway.ecn.uoknor.edu (Matthew ...</td>\n",
              "      <td>3</td>\n",
              "    </tr>\n",
              "    <tr>\n",
              "      <th>2</th>\n",
              "      <td>From: hilmi-er@dsv.su.se (Hilmi Eren)\\nSubject...</td>\n",
              "      <td>17</td>\n",
              "    </tr>\n",
              "    <tr>\n",
              "      <th>3</th>\n",
              "      <td>From: guyd@austin.ibm.com (Guy Dawson)\\nSubjec...</td>\n",
              "      <td>3</td>\n",
              "    </tr>\n",
              "    <tr>\n",
              "      <th>4</th>\n",
              "      <td>From: Alexander Samuel McDiarmid &lt;am2o+@andrew...</td>\n",
              "      <td>4</td>\n",
              "    </tr>\n",
              "  </tbody>\n",
              "</table>\n",
              "</div>\n",
              "    <div class=\"colab-df-buttons\">\n",
              "\n",
              "  <div class=\"colab-df-container\">\n",
              "    <button class=\"colab-df-convert\" onclick=\"convertToInteractive('df-c7f76294-71d8-41e8-9dee-acf2dfbe41b3')\"\n",
              "            title=\"Convert this dataframe to an interactive table.\"\n",
              "            style=\"display:none;\">\n",
              "\n",
              "  <svg xmlns=\"http://www.w3.org/2000/svg\" height=\"24px\" viewBox=\"0 -960 960 960\">\n",
              "    <path d=\"M120-120v-720h720v720H120Zm60-500h600v-160H180v160Zm220 220h160v-160H400v160Zm0 220h160v-160H400v160ZM180-400h160v-160H180v160Zm440 0h160v-160H620v160ZM180-180h160v-160H180v160Zm440 0h160v-160H620v160Z\"/>\n",
              "  </svg>\n",
              "    </button>\n",
              "\n",
              "  <style>\n",
              "    .colab-df-container {\n",
              "      display:flex;\n",
              "      gap: 12px;\n",
              "    }\n",
              "\n",
              "    .colab-df-convert {\n",
              "      background-color: #E8F0FE;\n",
              "      border: none;\n",
              "      border-radius: 50%;\n",
              "      cursor: pointer;\n",
              "      display: none;\n",
              "      fill: #1967D2;\n",
              "      height: 32px;\n",
              "      padding: 0 0 0 0;\n",
              "      width: 32px;\n",
              "    }\n",
              "\n",
              "    .colab-df-convert:hover {\n",
              "      background-color: #E2EBFA;\n",
              "      box-shadow: 0px 1px 2px rgba(60, 64, 67, 0.3), 0px 1px 3px 1px rgba(60, 64, 67, 0.15);\n",
              "      fill: #174EA6;\n",
              "    }\n",
              "\n",
              "    .colab-df-buttons div {\n",
              "      margin-bottom: 4px;\n",
              "    }\n",
              "\n",
              "    [theme=dark] .colab-df-convert {\n",
              "      background-color: #3B4455;\n",
              "      fill: #D2E3FC;\n",
              "    }\n",
              "\n",
              "    [theme=dark] .colab-df-convert:hover {\n",
              "      background-color: #434B5C;\n",
              "      box-shadow: 0px 1px 3px 1px rgba(0, 0, 0, 0.15);\n",
              "      filter: drop-shadow(0px 1px 2px rgba(0, 0, 0, 0.3));\n",
              "      fill: #FFFFFF;\n",
              "    }\n",
              "  </style>\n",
              "\n",
              "    <script>\n",
              "      const buttonEl =\n",
              "        document.querySelector('#df-c7f76294-71d8-41e8-9dee-acf2dfbe41b3 button.colab-df-convert');\n",
              "      buttonEl.style.display =\n",
              "        google.colab.kernel.accessAllowed ? 'block' : 'none';\n",
              "\n",
              "      async function convertToInteractive(key) {\n",
              "        const element = document.querySelector('#df-c7f76294-71d8-41e8-9dee-acf2dfbe41b3');\n",
              "        const dataTable =\n",
              "          await google.colab.kernel.invokeFunction('convertToInteractive',\n",
              "                                                    [key], {});\n",
              "        if (!dataTable) return;\n",
              "\n",
              "        const docLinkHtml = 'Like what you see? Visit the ' +\n",
              "          '<a target=\"_blank\" href=https://colab.research.google.com/notebooks/data_table.ipynb>data table notebook</a>'\n",
              "          + ' to learn more about interactive tables.';\n",
              "        element.innerHTML = '';\n",
              "        dataTable['output_type'] = 'display_data';\n",
              "        await google.colab.output.renderOutput(dataTable, element);\n",
              "        const docLink = document.createElement('div');\n",
              "        docLink.innerHTML = docLinkHtml;\n",
              "        element.appendChild(docLink);\n",
              "      }\n",
              "    </script>\n",
              "  </div>\n",
              "\n",
              "\n",
              "    <div id=\"df-dde1ca67-54f4-4ee6-a88e-42b26a5fc22c\">\n",
              "      <button class=\"colab-df-quickchart\" onclick=\"quickchart('df-dde1ca67-54f4-4ee6-a88e-42b26a5fc22c')\"\n",
              "                title=\"Suggest charts\"\n",
              "                style=\"display:none;\">\n",
              "\n",
              "<svg xmlns=\"http://www.w3.org/2000/svg\" height=\"24px\"viewBox=\"0 0 24 24\"\n",
              "     width=\"24px\">\n",
              "    <g>\n",
              "        <path d=\"M19 3H5c-1.1 0-2 .9-2 2v14c0 1.1.9 2 2 2h14c1.1 0 2-.9 2-2V5c0-1.1-.9-2-2-2zM9 17H7v-7h2v7zm4 0h-2V7h2v10zm4 0h-2v-4h2v4z\"/>\n",
              "    </g>\n",
              "</svg>\n",
              "      </button>\n",
              "\n",
              "<style>\n",
              "  .colab-df-quickchart {\n",
              "      --bg-color: #E8F0FE;\n",
              "      --fill-color: #1967D2;\n",
              "      --hover-bg-color: #E2EBFA;\n",
              "      --hover-fill-color: #174EA6;\n",
              "      --disabled-fill-color: #AAA;\n",
              "      --disabled-bg-color: #DDD;\n",
              "  }\n",
              "\n",
              "  [theme=dark] .colab-df-quickchart {\n",
              "      --bg-color: #3B4455;\n",
              "      --fill-color: #D2E3FC;\n",
              "      --hover-bg-color: #434B5C;\n",
              "      --hover-fill-color: #FFFFFF;\n",
              "      --disabled-bg-color: #3B4455;\n",
              "      --disabled-fill-color: #666;\n",
              "  }\n",
              "\n",
              "  .colab-df-quickchart {\n",
              "    background-color: var(--bg-color);\n",
              "    border: none;\n",
              "    border-radius: 50%;\n",
              "    cursor: pointer;\n",
              "    display: none;\n",
              "    fill: var(--fill-color);\n",
              "    height: 32px;\n",
              "    padding: 0;\n",
              "    width: 32px;\n",
              "  }\n",
              "\n",
              "  .colab-df-quickchart:hover {\n",
              "    background-color: var(--hover-bg-color);\n",
              "    box-shadow: 0 1px 2px rgba(60, 64, 67, 0.3), 0 1px 3px 1px rgba(60, 64, 67, 0.15);\n",
              "    fill: var(--button-hover-fill-color);\n",
              "  }\n",
              "\n",
              "  .colab-df-quickchart-complete:disabled,\n",
              "  .colab-df-quickchart-complete:disabled:hover {\n",
              "    background-color: var(--disabled-bg-color);\n",
              "    fill: var(--disabled-fill-color);\n",
              "    box-shadow: none;\n",
              "  }\n",
              "\n",
              "  .colab-df-spinner {\n",
              "    border: 2px solid var(--fill-color);\n",
              "    border-color: transparent;\n",
              "    border-bottom-color: var(--fill-color);\n",
              "    animation:\n",
              "      spin 1s steps(1) infinite;\n",
              "  }\n",
              "\n",
              "  @keyframes spin {\n",
              "    0% {\n",
              "      border-color: transparent;\n",
              "      border-bottom-color: var(--fill-color);\n",
              "      border-left-color: var(--fill-color);\n",
              "    }\n",
              "    20% {\n",
              "      border-color: transparent;\n",
              "      border-left-color: var(--fill-color);\n",
              "      border-top-color: var(--fill-color);\n",
              "    }\n",
              "    30% {\n",
              "      border-color: transparent;\n",
              "      border-left-color: var(--fill-color);\n",
              "      border-top-color: var(--fill-color);\n",
              "      border-right-color: var(--fill-color);\n",
              "    }\n",
              "    40% {\n",
              "      border-color: transparent;\n",
              "      border-right-color: var(--fill-color);\n",
              "      border-top-color: var(--fill-color);\n",
              "    }\n",
              "    60% {\n",
              "      border-color: transparent;\n",
              "      border-right-color: var(--fill-color);\n",
              "    }\n",
              "    80% {\n",
              "      border-color: transparent;\n",
              "      border-right-color: var(--fill-color);\n",
              "      border-bottom-color: var(--fill-color);\n",
              "    }\n",
              "    90% {\n",
              "      border-color: transparent;\n",
              "      border-bottom-color: var(--fill-color);\n",
              "    }\n",
              "  }\n",
              "</style>\n",
              "\n",
              "      <script>\n",
              "        async function quickchart(key) {\n",
              "          const quickchartButtonEl =\n",
              "            document.querySelector('#' + key + ' button');\n",
              "          quickchartButtonEl.disabled = true;  // To prevent multiple clicks.\n",
              "          quickchartButtonEl.classList.add('colab-df-spinner');\n",
              "          try {\n",
              "            const charts = await google.colab.kernel.invokeFunction(\n",
              "                'suggestCharts', [key], {});\n",
              "          } catch (error) {\n",
              "            console.error('Error during call to suggestCharts:', error);\n",
              "          }\n",
              "          quickchartButtonEl.classList.remove('colab-df-spinner');\n",
              "          quickchartButtonEl.classList.add('colab-df-quickchart-complete');\n",
              "        }\n",
              "        (() => {\n",
              "          let quickchartButtonEl =\n",
              "            document.querySelector('#df-dde1ca67-54f4-4ee6-a88e-42b26a5fc22c button');\n",
              "          quickchartButtonEl.style.display =\n",
              "            google.colab.kernel.accessAllowed ? 'block' : 'none';\n",
              "        })();\n",
              "      </script>\n",
              "    </div>\n",
              "\n",
              "    </div>\n",
              "  </div>\n"
            ],
            "application/vnd.google.colaboratory.intrinsic+json": {
              "type": "dataframe",
              "variable_name": "nlpdf",
              "summary": "{\n  \"name\": \"nlpdf\",\n  \"rows\": 18846,\n  \"fields\": [\n    {\n      \"column\": \"data\",\n      \"properties\": {\n        \"dtype\": \"string\",\n        \"num_unique_values\": 18846,\n        \"samples\": [\n          \"From: shippert@cco.caltech.edu (Tim Shippert)\\nSubject: Re: Infield Fly Rule\\nOrganization: California Institute of Technology, Pasadena\\nLines: 25\\nNNTP-Posting-Host: sandman.caltech.edu\\n\\njrogoff@scott.skidmore.edu (jay rogoff) writes:\\n\\n>One last infield fly question that has always puzzled me and hasn't\\n>yet been addressed.  I believe the rule also does *not* deal with this\\n>situation:\\n\\n>However, if the Infield Fly is *not* caught, at what point can a runner\\n>legally leave his base w/o fear of being doubled off for advancing too\\n>early?  \\n\\n\\tThe runner can leave his base at any time.  If the ball is caught,\\nhe's got to tag up.  If it isn't caught, he _doesn't_ have to tag up at\\nall.  So, if he's feeling lucky, your runner at second can sprint for glory\\nas soon as the ball is popped up.  If it isn't caught, he's probably scored\\na run.  If it is, he's probably headed for AAA.  \\n\\n\\tThe only effect the infield fly has is to make the batter out,\\nthereby removing the force on the runners on base.  All other rules apply,\\nas if you were standing second with first open and the ball is popped up.\\n\\n-- \\nTim Shippert                                 shippert@cco.caltech.edu\\n\\\"If we are going to stick to this damned quantum-jumping, then I regret\\nthat I ever had anything to do with quantum theory.\\\"\\n\\t\\t\\t\\t\\t-E. Schrodinger\\n\",\n          \"From: mont@netcom.com (Mont Pierce)\\nSubject: Re: 8051 Microcontroller\\nOrganization: Netcom - Online Communication Services (408 241-9760 guest)\\nLines: 31\\n\\nIn article <1qppr5INNaqa@dns1.NMSU.Edu> mcole@spock (COLE) writes:\\n>I would like to experiment with the INTEL 8051 family.  Does anyone out  \\n>there know of any good FTP sites that might have compiliers, assemblers,  \\n>etc.?\\n\\nWell, it's not an FTP site, but I got an 800 number for Signetics BBS.\\n\\nThe Signetics BBS contain some pretty good items for the 8051.  I am\\ncurrently using the following files which I downloaded from them:\\n\\n    ml-asm51.zip      MetaLink's 8051 family macro assembler\\n    bootstrp.zip      Hex file Load-and-Go using 8051 uart\\n                      (allows you to download your program into a RAM\\n                       and then execute from RAM.  Works great.  Tell\\n                       me if you want more details).\\n    tutor51.zip       TSR for 8051 feature help screens\\n    \\nThey have lots of coding examples, assemblers, and misc. tools.\\n\\nSignetics BBS numbers are:    (800) 451-6644\\n                              (408) 991-2406\\n\\nHave fun,\\n-- \\nMont Pierce\\n\\n+-------------------------------------------------------------------------+\\n| Ham Call: KM6WT             Internet:  mont@netcom.com                  |\\n|    bands: 80/40/20/15/10/2  IBM vnet:  mont@vnet.ibm.com                |\\n|    modes: cw,ssb,fm                                                     |\\n+-------------------------------------------------------------------------+\\n\",\n          \"From: Amruth Laxman <al26+@andrew.cmu.edu>\\nSubject: Surviving Large Accelerations?\\nOrganization: Junior, Electrical and Computer Engineering, Carnegie Mellon, Pittsburgh, PA\\nLines: 16\\nNNTP-Posting-Host: po5.andrew.cmu.edu\\n\\nHi,\\n    I was reading through \\\"The Spaceflight Handbook\\\" and somewhere in\\nthere the author discusses solar sails and the forces acting on them\\nwhen and if they try to gain an initial acceleration by passing close to\\nthe sun in a hyperbolic orbit. The magnitude of such accelerations he\\nestimated to be on the order of 700g. He also says that this is may not\\nbe a big problem for manned craft because humans (and this was published\\nin 1986) have already withstood accelerations of 45g. All this is very\\nlong-winded but here's my question finally - Are 45g accelerations in\\nfact humanly tolerable? - with the aid of any mechanical devices of\\ncourse. If these are possible, what is used to absorb the acceleration?\\nCan this be extended to larger accelerations?\\n\\nThanks is advance...\\n-Amruth Laxman\\n\\n\"\n        ],\n        \"semantic_type\": \"\",\n        \"description\": \"\"\n      }\n    },\n    {\n      \"column\": \"target\",\n      \"properties\": {\n        \"dtype\": \"number\",\n        \"std\": 5,\n        \"min\": 0,\n        \"max\": 19,\n        \"num_unique_values\": 20,\n        \"samples\": [\n          10,\n          18,\n          6\n        ],\n        \"semantic_type\": \"\",\n        \"description\": \"\"\n      }\n    }\n  ]\n}"
            }
          },
          "metadata": {},
          "execution_count": 41
        }
      ],
      "source": [
        "nlpdf.head()"
      ]
    },
    {
      "cell_type": "code",
      "execution_count": null,
      "metadata": {
        "colab": {
          "base_uri": "https://localhost:8080/"
        },
        "id": "AAhd1RMFJdXG",
        "outputId": "f4d77270-338f-418d-f1c7-9e7be212cd87"
      },
      "outputs": [
        {
          "output_type": "stream",
          "name": "stdout",
          "text": [
            "0\n"
          ]
        },
        {
          "output_type": "execute_result",
          "data": {
            "text/plain": [
              "(20,)"
            ]
          },
          "metadata": {},
          "execution_count": 42
        }
      ],
      "source": [
        "print(np.min(nlpdf['target'].unique()))\n",
        "nlpdf['target'].unique().shape\n"
      ]
    },
    {
      "cell_type": "code",
      "execution_count": null,
      "metadata": {
        "id": "5Upf4tYqjWWT"
      },
      "outputs": [],
      "source": [
        "nlpdf=nlpdf\n",
        "nlpdf['data']=nlpdf['data'].apply(lambda x:processing(x))"
      ]
    },
    {
      "cell_type": "code",
      "execution_count": null,
      "metadata": {
        "colab": {
          "base_uri": "https://localhost:8080/"
        },
        "id": "WlVb2QbhlJCX",
        "outputId": "e9bf44bf-6276-417e-a8ed-ea517ec4da16"
      },
      "outputs": [
        {
          "output_type": "execute_result",
          "data": {
            "text/plain": [
              "array([10,  3, 17,  4, 12, 19, 11, 13,  0,  8,  7,  5,  1, 14, 16,  6,  9,\n",
              "       18,  2, 15])"
            ]
          },
          "metadata": {},
          "execution_count": 302
        }
      ],
      "source": [
        "nlpdf['data'][:2]\n",
        "X=nlpdf['data']\n",
        "y=nlpdf['target']\n",
        "y.unique()"
      ]
    },
    {
      "cell_type": "code",
      "execution_count": null,
      "metadata": {
        "id": "xeLFI27FLMQk"
      },
      "outputs": [],
      "source": [
        "from sklearn.model_selection import train_test_split\n"
      ]
    },
    {
      "cell_type": "code",
      "execution_count": null,
      "metadata": {
        "id": "jad3ePEnsFMH",
        "colab": {
          "base_uri": "https://localhost:8080/"
        },
        "outputId": "1ac36c57-9bbc-4afd-bcf1-83e9cd5a2de2"
      },
      "outputs": [
        {
          "output_type": "stream",
          "name": "stdout",
          "text": [
            "Max: 11821\n",
            "95th percentile: 755\n",
            "76882\n"
          ]
        },
        {
          "output_type": "stream",
          "name": "stderr",
          "text": [
            "/usr/local/lib/python3.11/dist-packages/keras/src/layers/core/embedding.py:90: UserWarning: Argument `input_length` is deprecated. Just remove it.\n",
            "  warnings.warn(\n"
          ]
        }
      ],
      "source": [
        "from tensorflow.keras.preprocessing.text import Tokenizer\n",
        "from tensorflow.keras.preprocessing.sequence import pad_sequences\n",
        "from tensorflow.keras.models import Sequential\n",
        "from tensorflow.keras.layers import Embedding, LSTM, Bidirectional, Dense,Dropout\n",
        "from tensorflow.keras.losses import SparseCategoricalCrossentropy\n",
        "from tensorflow.keras.optimizers import Adam\n",
        "from tensorflow.keras import regularizers\n",
        "# Tokenize words (preserves order)\n",
        "tokenizer = Tokenizer(num_words=10000, oov_token=\"<OOV>\")\n",
        "tokenizer.fit_on_texts(X)\n",
        "sequences = tokenizer.texts_to_sequences(X)\n",
        "\n",
        "lengths = [len(text.split()) for text in newsgroups['data']]\n",
        "print(\"Max:\", max(lengths))\n",
        "print(\"95th percentile:\", int(np.percentile(lengths, 95)))\n",
        "length=int(np.percentile(lengths, 95))\n",
        "\n",
        "padded_sequences = pad_sequences(sequences, maxlen=length, padding='post')\n",
        "print(len(tokenizer.word_index))\n",
        "\n",
        "X_train, X_test, y_train, y_test = train_test_split(padded_sequences,y,test_size=0.1,stratify=y, random_state=42)\n",
        "X_train, x_val, y_train, y_val = train_test_split(X_train, y_train, test_size=0.1, random_state=42)\n",
        "model = Sequential([\n",
        "    Embedding(input_dim = len(tokenizer.word_index) + 1, output_dim=100, input_length=length),\n",
        "    Bidirectional(LSTM(64,return_sequences=False,kernel_regularizer=regularizers.l1(1e-4),          # Regularizer for input weights\n",
        "    recurrent_regularizer=regularizers.l1(1e-4),       # Regularizer for recurrent weights\n",
        "    bias_regularizer=regularizers.l1(1e-4) ,dropout=0.4)),\n",
        "    Dropout(0.5),\n",
        "    Dense(20, activation='linear')\n",
        "])\n",
        "loss_fn = SparseCategoricalCrossentropy(from_logits=True)\n",
        "optimizer = Adam(learning_rate=0.01)\n",
        "model.compile(optimizer=optimizer, loss=loss_fn, metrics=['accuracy'])"
      ]
    },
    {
      "cell_type": "code",
      "source": [
        "from tensorflow.keras.callbacks import EarlyStopping\n",
        "\n",
        "early_stop = EarlyStopping(\n",
        "    monitor='val_loss',      # what to monitor: 'val_loss' or 'val_accuracy'\n",
        "    patience=5,              # stop after 3 epochs with no improvement\n",
        "    restore_best_weights=True  # go back to the best model after stopping\n",
        ")"
      ],
      "metadata": {
        "id": "Z02cvmpwiZxg"
      },
      "execution_count": null,
      "outputs": []
    },
    {
      "cell_type": "code",
      "execution_count": null,
      "metadata": {
        "id": "YlyOoZUYGgL7",
        "colab": {
          "base_uri": "https://localhost:8080/"
        },
        "collapsed": true,
        "outputId": "2f174071-dc51-4f26-d256-0be1453afeb4"
      },
      "outputs": [
        {
          "output_type": "stream",
          "name": "stdout",
          "text": [
            "Epoch 1/50\n",
            "\u001b[1m239/239\u001b[0m \u001b[32m━━━━━━━━━━━━━━━━━━━━\u001b[0m\u001b[37m\u001b[0m \u001b[1m18s\u001b[0m 65ms/step - accuracy: 0.2668 - loss: 2.5929 - val_accuracy: 0.7413 - val_loss: 1.3261\n",
            "Epoch 2/50\n",
            "\u001b[1m239/239\u001b[0m \u001b[32m━━━━━━━━━━━━━━━━━━━━\u001b[0m\u001b[37m\u001b[0m \u001b[1m19s\u001b[0m 59ms/step - accuracy: 0.7819 - loss: 1.2165 - val_accuracy: 0.8433 - val_loss: 0.9902\n",
            "Epoch 3/50\n",
            "\u001b[1m239/239\u001b[0m \u001b[32m━━━━━━━━━━━━━━━━━━━━\u001b[0m\u001b[37m\u001b[0m \u001b[1m20s\u001b[0m 59ms/step - accuracy: 0.8867 - loss: 0.8625 - val_accuracy: 0.8751 - val_loss: 0.9000\n",
            "Epoch 4/50\n",
            "\u001b[1m239/239\u001b[0m \u001b[32m━━━━━━━━━━━━━━━━━━━━\u001b[0m\u001b[37m\u001b[0m \u001b[1m21s\u001b[0m 63ms/step - accuracy: 0.9169 - loss: 0.7441 - val_accuracy: 0.8651 - val_loss: 0.9070\n",
            "Epoch 5/50\n",
            "\u001b[1m239/239\u001b[0m \u001b[32m━━━━━━━━━━━━━━━━━━━━\u001b[0m\u001b[37m\u001b[0m \u001b[1m20s\u001b[0m 59ms/step - accuracy: 0.9335 - loss: 0.6662 - val_accuracy: 0.8651 - val_loss: 1.0218\n",
            "Epoch 6/50\n",
            "\u001b[1m239/239\u001b[0m \u001b[32m━━━━━━━━━━━━━━━━━━━━\u001b[0m\u001b[37m\u001b[0m \u001b[1m15s\u001b[0m 62ms/step - accuracy: 0.9404 - loss: 0.7251 - val_accuracy: 0.8598 - val_loss: 0.9966\n",
            "Epoch 7/50\n",
            "\u001b[1m239/239\u001b[0m \u001b[32m━━━━━━━━━━━━━━━━━━━━\u001b[0m\u001b[37m\u001b[0m \u001b[1m20s\u001b[0m 59ms/step - accuracy: 0.9493 - loss: 0.6489 - val_accuracy: 0.8786 - val_loss: 0.9264\n",
            "Epoch 8/50\n",
            "\u001b[1m239/239\u001b[0m \u001b[32m━━━━━━━━━━━━━━━━━━━━\u001b[0m\u001b[37m\u001b[0m \u001b[1m20s\u001b[0m 59ms/step - accuracy: 0.9568 - loss: 0.6076 - val_accuracy: 0.8721 - val_loss: 0.9887\n"
          ]
        }
      ],
      "source": [
        "history=(model.fit(X_train, y_train, epochs=50, batch_size=64, validation_data=(x_val, y_val),callbacks=[early_stop]))"
      ]
    },
    {
      "cell_type": "code",
      "execution_count": null,
      "metadata": {
        "id": "nJPo6ZQvNtHB",
        "colab": {
          "base_uri": "https://localhost:8080/"
        },
        "outputId": "c4599a71-82ec-42cf-a8cd-8d6ad230871e"
      },
      "outputs": [
        {
          "output_type": "stream",
          "name": "stdout",
          "text": [
            "\u001b[1m59/59\u001b[0m \u001b[32m━━━━━━━━━━━━━━━━━━━━\u001b[0m\u001b[37m\u001b[0m \u001b[1m2s\u001b[0m 27ms/step\n"
          ]
        }
      ],
      "source": [
        "y_hat=model.predict(X_test)"
      ]
    },
    {
      "cell_type": "code",
      "source": [
        "y_pred=np.argmax(y_hat,axis=1)\n",
        "y_pred[0]"
      ],
      "metadata": {
        "id": "pLl2qeKXtY8q",
        "colab": {
          "base_uri": "https://localhost:8080/"
        },
        "outputId": "455dfff6-a7e5-4d91-c8bc-bdc36c7e9c3c"
      },
      "execution_count": null,
      "outputs": [
        {
          "output_type": "execute_result",
          "data": {
            "text/plain": [
              "np.int64(12)"
            ]
          },
          "metadata": {},
          "execution_count": 308
        }
      ]
    },
    {
      "cell_type": "code",
      "execution_count": null,
      "metadata": {
        "id": "3fZmdgl8Oo6k",
        "colab": {
          "base_uri": "https://localhost:8080/"
        },
        "outputId": "6f5eaf16-a9ee-45e7-a369-1d3541bc419c"
      },
      "outputs": [
        {
          "output_type": "execute_result",
          "data": {
            "text/plain": [
              "0.86684350132626"
            ]
          },
          "metadata": {},
          "execution_count": 309
        }
      ],
      "source": [
        "from sklearn.metrics import accuracy_score\n",
        "\n",
        "acc=accuracy_score(y_test,y_pred)\n",
        "acc"
      ]
    },
    {
      "cell_type": "code",
      "source": [
        "train_acc=accuracy_score(y_train,np.argmax(model.predict(X_train),axis=1))"
      ],
      "metadata": {
        "id": "KAn8m2wbu3g0",
        "colab": {
          "base_uri": "https://localhost:8080/"
        },
        "outputId": "80e19bdd-d0b9-4cff-89b6-563a2fdad8c1"
      },
      "execution_count": null,
      "outputs": [
        {
          "output_type": "stream",
          "name": "stdout",
          "text": [
            "\u001b[1m477/477\u001b[0m \u001b[32m━━━━━━━━━━━━━━━━━━━━\u001b[0m\u001b[37m\u001b[0m \u001b[1m9s\u001b[0m 18ms/step\n"
          ]
        }
      ]
    },
    {
      "cell_type": "code",
      "execution_count": null,
      "metadata": {
        "id": "YBTkkzQgGrgU",
        "colab": {
          "base_uri": "https://localhost:8080/"
        },
        "outputId": "b1e9bfba-4c9a-49c6-bfdb-a84d84028e29"
      },
      "outputs": [
        {
          "output_type": "execute_result",
          "data": {
            "text/plain": [
              "0.9468029350104822"
            ]
          },
          "metadata": {},
          "execution_count": 311
        }
      ],
      "source": [
        "train_acc"
      ]
    },
    {
      "cell_type": "code",
      "execution_count": null,
      "metadata": {
        "id": "oweKW0IUU1wE",
        "colab": {
          "base_uri": "https://localhost:8080/"
        },
        "outputId": "6551785b-62fd-46fe-f906-0d6ce4c97df4"
      },
      "outputs": [
        {
          "output_type": "stream",
          "name": "stdout",
          "text": [
            "F1 Score: 0.8648673965284995\n"
          ]
        }
      ],
      "source": [
        "from sklearn.metrics import f1_score\n",
        "\n",
        "# y_true: true labels\n",
        "# y_pred: predicted class indices from model\n",
        "f1 = f1_score(y_test, y_pred, average='macro')  # or 'micro', 'weighted'\n",
        "print(\"F1 Score:\", f1)\n"
      ]
    },
    {
      "cell_type": "code",
      "source": [
        "from sklearn.metrics import classification_report\n",
        "print(classification_report(y_test, y_pred, digits=3))\n"
      ],
      "metadata": {
        "colab": {
          "base_uri": "https://localhost:8080/"
        },
        "id": "JKS0eDQBWq3g",
        "outputId": "f26a46e2-4604-4ade-9262-98faf0e7ed91"
      },
      "execution_count": null,
      "outputs": [
        {
          "output_type": "stream",
          "name": "stdout",
          "text": [
            "              precision    recall  f1-score   support\n",
            "\n",
            "           0      0.780     0.887     0.830        80\n",
            "           1      0.808     0.825     0.816        97\n",
            "           2      0.878     0.798     0.836        99\n",
            "           3      0.714     0.816     0.762        98\n",
            "           4      0.857     0.812     0.834        96\n",
            "           5      0.847     0.838     0.843        99\n",
            "           6      0.750     0.673     0.710        98\n",
            "           7      0.863     0.889     0.876        99\n",
            "           8      0.861     0.930     0.894       100\n",
            "           9      0.921     0.939     0.930        99\n",
            "          10      0.960     0.950     0.955       100\n",
            "          11      0.970     0.970     0.970        99\n",
            "          12      0.802     0.786     0.794        98\n",
            "          13      0.937     0.899     0.918        99\n",
            "          14      0.939     0.939     0.939        99\n",
            "          15      0.948     0.910     0.929       100\n",
            "          16      0.907     0.857     0.881        91\n",
            "          17      0.977     0.904     0.939        94\n",
            "          18      0.824     0.909     0.864        77\n",
            "          19      0.778     0.778     0.778        63\n",
            "\n",
            "    accuracy                          0.867      1885\n",
            "   macro avg      0.866     0.866     0.865      1885\n",
            "weighted avg      0.869     0.867     0.867      1885\n",
            "\n"
          ]
        }
      ]
    },
    {
      "cell_type": "code",
      "source": [
        "import matplotlib.pyplot as plt\n",
        "\n",
        "plt.plot(history.history['accuracy'], label='Train Accuracy')\n",
        "plt.plot(history.history['val_accuracy'], label='Validation Accuracy')\n",
        "plt.title('Model Accuracy')\n",
        "plt.xlabel('Epoch')\n",
        "plt.ylabel('Accuracy')\n",
        "plt.legend()\n",
        "plt.grid(True)\n",
        "plt.show()\n"
      ],
      "metadata": {
        "colab": {
          "base_uri": "https://localhost:8080/",
          "height": 472
        },
        "id": "nK0LKqketlpN",
        "outputId": "17d0a5f1-65b1-4bb2-d205-c346975d56ae"
      },
      "execution_count": null,
      "outputs": [
        {
          "output_type": "display_data",
          "data": {
            "text/plain": [
              "<Figure size 640x480 with 1 Axes>"
            ],
            "image/png": "[encoded data removed]"
          },
          "metadata": {}
        }
      ]
    },
    {
      "cell_type": "code",
      "source": [
        "plt.plot(history.history['loss'], label='Train Loss')\n",
        "plt.plot(history.history['val_loss'], label='Validation Loss')\n",
        "plt.title('Model Loss')\n",
        "plt.xlabel('Epoch')\n",
        "plt.ylabel('Loss')\n",
        "plt.legend()\n",
        "plt.grid(True)\n",
        "plt.show()\n"
      ],
      "metadata": {
        "colab": {
          "base_uri": "https://localhost:8080/",
          "height": 472
        },
        "id": "mIohc_iAvESv",
        "outputId": "3f088af6-4681-4e17-c62a-994a90c9b7c3"
      },
      "execution_count": null,
      "outputs": [
        {
          "output_type": "display_data",
          "data": {
            "text/plain": [
              "<Figure size 640x480 with 1 Axes>"
            ],
            "image/png": "[encoded data removed]"
          },
          "metadata": {}
        }
      ]
    },
    {
      "cell_type": "code",
      "source": [
        "plt.savefig(\"accuracy_curve.png\")  # save accuracy curve\n",
        "plt.clf()\n",
        "plt.savefig(\"loss_curve.png\")      # save loss curve\n"
      ],
      "metadata": {
        "colab": {
          "base_uri": "https://localhost:8080/",
          "height": 35
        },
        "id": "PImQ6S5AvGei",
        "outputId": "c798bef2-8823-4d09-c342-9da7eb7dbb68"
      },
      "execution_count": null,
      "outputs": [
        {
          "output_type": "display_data",
          "data": {
            "text/plain": [
              "<Figure size 640x480 with 0 Axes>"
            ]
          },
          "metadata": {}
        }
      ]
    },
    {
      "cell_type": "code",
      "source": [
        "model.save('newsgroup_model.h5')\n"
      ],
      "metadata": {
        "colab": {
          "base_uri": "https://localhost:8080/"
        },
        "id": "Ve_ohi2svMGk",
        "outputId": "3977e379-c15f-4d85-eeb5-d938ce13e934"
      },
      "execution_count": null,
      "outputs": [
        {
          "output_type": "stream",
          "name": "stderr",
          "text": [
            "WARNING:absl:You are saving your model as an HDF5 file via `model.save()` or `keras.saving.save_model(model)`. This file format is considered legacy. We recommend using instead the native Keras format, e.g. `model.save('my_model.keras')` or `keras.saving.save_model(model, 'my_model.keras')`. \n"
          ]
        }
      ]
    },
    {
      "cell_type": "code",
      "source": [
        "import pickle\n",
        "\n",
        "# Save model\n",
        "model.save(\"newsgroup_model.h5\")\n",
        "\n",
        "# Save tokenizer\n",
        "with open(\"tokenizer.pkl\", \"wb\") as f:\n",
        "    pickle.dump(tokenizer, f)\n"
      ],
      "metadata": {
        "colab": {
          "base_uri": "https://localhost:8080/"
        },
        "id": "c1-ZjC7nwGYJ",
        "outputId": "ca3a25a9-ebc4-4edc-c184-b28558b77f00"
      },
      "execution_count": null,
      "outputs": [
        {
          "output_type": "stream",
          "name": "stderr",
          "text": [
            "WARNING:absl:You are saving your model as an HDF5 file via `model.save()` or `keras.saving.save_model(model)`. This file format is considered legacy. We recommend using instead the native Keras format, e.g. `model.save('my_model.keras')` or `keras.saving.save_model(model, 'my_model.keras')`. \n"
          ]
        }
      ]
    },
    {
      "cell_type": "code",
      "source": [
        "#py version\n",
        "import sys\n",
        "print(sys.version)"
      ],
      "metadata": {
        "colab": {
          "base_uri": "https://localhost:8080/"
        },
        "id": "EefVRFjJwdR1",
        "outputId": "203e2421-98b8-4805-a26f-aca8bf2d2879"
      },
      "execution_count": null,
      "outputs": [
        {
          "output_type": "stream",
          "name": "stdout",
          "text": [
            "3.11.13 (main, Jun  4 2025, 08:57:29) [GCC 11.4.0]\n"
          ]
        }
      ]
    },
    {
      "cell_type": "code",
      "source": [],
      "metadata": {
        "id": "b3N1AlyK8Et9"
      },
      "execution_count": null,
      "outputs": []
    }
  ],
  "metadata": {
    "accelerator": "GPU",
    "colab": {
      "gpuType": "T4",
      "provenance": [],
      "authorship_tag": "ABX9TyOH4Mgn4PvQYZPsVc3izpPB",
      "include_colab_link": true
    },
    "kernelspec": {
      "display_name": "Python 3",
      "name": "python3"
    },
    "language_info": {
      "name": "python"
    }
  },
  "nbformat": 4,
  "nbformat_minor": 0
}